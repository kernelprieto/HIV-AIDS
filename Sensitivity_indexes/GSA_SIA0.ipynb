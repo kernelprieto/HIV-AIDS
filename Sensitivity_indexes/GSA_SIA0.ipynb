{
 "cells": [
  {
   "cell_type": "code",
   "execution_count": 26,
   "metadata": {},
   "outputs": [],
   "source": [
    "import numpy as np\n",
    "from scipy.integrate import odeint\n",
    "from scipy.integrate import simps\n",
    "import pandas as pd"
   ]
  },
  {
   "cell_type": "code",
   "execution_count": 27,
   "metadata": {},
   "outputs": [],
   "source": [
    "M = 1000000\n",
    "a_1 = 10.\n",
    "b_1 = 1.\n",
    "\n",
    "mu     = np.random.gamma(a_1, b_1, M)\n",
    "beta   = np.random.gamma(a_1, b_1, M)\n",
    "nu     = np.random.gamma(a_1, b_1, M)\n",
    "sigma  = np.random.gamma(a_1, b_1, M)\n",
    "kappa  = np.random.gamma(a_1, b_1, M)\n",
    "K      = np.random.gamma(a_1, b_1, M)\n",
    "\n",
    "mu_hat     = np.random.gamma(a_1, b_1, M)\n",
    "beta_hat   = np.random.gamma(a_1, b_1, M)\n",
    "nu_hat     = np.random.gamma(a_1, b_1, M)\n",
    "sigma_hat  = np.random.gamma(a_1, b_1, M)\n",
    "kappa_hat  = np.random.gamma(a_1, b_1, M)\n",
    "K_hat      = np.random.gamma(a_1, b_1, M)\n",
    "\n",
    "# Mínimos y máximos\n",
    "mu_m,mu_M       = 1e-5,0.1\n",
    "beta_m,beta_M   = 1e-5,0.99\n",
    "nu_m,nu_M       = 1e-5,0.1\n",
    "sigma_m,sigma_M = 1e-4,0.9\n",
    "kappa_m,kappa_M = 1e-6,1e-4\n",
    "K_m,K_M         = 1e-2,4.\n",
    "\n",
    "# Normalización de parámetros\n",
    "mu = (mu_M - mu_m)* ( mu - min(mu) ) / ( max(mu) - min(mu) ) + mu_m\n",
    "beta = (beta_M - beta_m)* ( beta - min(beta) ) / ( max(beta) - min(beta) ) + beta_m\n",
    "nu = (nu_M - nu_m)* ( nu - min(nu) ) / ( max(nu) - min(nu) ) + nu_m\n",
    "sigma = (sigma_M - sigma_m)* ( sigma - min(sigma) ) / ( max(sigma) - min(sigma) ) + sigma_m\n",
    "kappa = (kappa_M - kappa_m)* ( kappa - min(kappa) ) / ( max(kappa) - min(kappa) ) + kappa_m\n",
    "K = (K_M - K_m)* ( K - min(K) ) / ( max(K) - min(K) ) + K_m\n",
    "\n",
    "mu_hat = (mu_M - mu_m)* ( mu_hat - min(mu_hat) ) / ( max(mu_hat) - min(mu_hat) ) + mu_m\n",
    "beta_hat = (beta_M - beta_m)* ( beta_hat - min(beta_hat) ) / ( max(beta_hat) - min(beta_hat) ) + beta_m\n",
    "nu_hat = (nu_M - nu_m)* ( nu_hat - min(nu_hat) ) / ( max(nu_hat) - min(nu_hat) ) + nu_m\n",
    "sigma_hat = (sigma_M - sigma_m)* ( sigma_hat - min(sigma_hat) ) / ( max(sigma_hat) - min(sigma_hat) ) + sigma_m\n",
    "kappa_hat = (kappa_M - kappa_m)* ( kappa_hat - min(kappa_hat) ) / ( max(kappa_hat) - min(kappa_hat) ) + kappa_m\n",
    "K_hat = (K_M - K_m)* ( K_hat - min(K_hat) ) / ( max(K_hat) - min(K_hat) ) + K_m"
   ]
  },
  {
   "cell_type": "code",
   "execution_count": 28,
   "metadata": {},
   "outputs": [],
   "source": [
    "def model (x,t,p):\n",
    "    \"\"\"\n",
    "    p[0]=mu,p[1]=beta,p[2]=nu,p[3]=sigma,p[4]=kappa, p[5]=K\n",
    "    \"\"\"\n",
    "    fx = np.zeros(3)\n",
    "    xi = 1e-5\n",
    "    fx[0] = p[0] - ((p[1]*x[1]) + p[2]  + xi  )*x[0]\n",
    "    fx[1] = ((p[1]*x[1])+ xi ) *x[0] - (p[3] + p[2])*x[1]\n",
    "    fx[2] = p[3]*x[1] - (p[4] + p[2])*x[2]\n",
    "    return fx"
   ]
  },
  {
   "cell_type": "code",
   "execution_count": 29,
   "metadata": {},
   "outputs": [],
   "source": [
    "# En construcción\n",
    "def R0 (p):\n",
    "    x0 = np.array([1,0.00000001,0.00000194])\n",
    "    time = np.linspace(0.0,34.0,35)\n",
    "    nn = len(time)\n",
    "    dt = 1.0/(10.0*nn)\n",
    "    n_quad = 10.0*nn+1\n",
    "    t_quad = np.linspace(time[0],time[-1],n_quad)\n",
    "    x = odeint(model,x0,t_quad,args=(p,))\n",
    "    S = x[:,0]\n",
    "    I = x[:,1]\n",
    "    beta = p[1]\n",
    "    sigma = p[2]\n",
    "    nu = p[3]\n",
    "    f = beta / (sigma + nu)\n",
    "    phi = K * simps(f) * dt\n",
    "    return phi\n",
    "    "
   ]
  },
  {
   "cell_type": "code",
   "execution_count": 30,
   "metadata": {},
   "outputs": [],
   "source": [
    "def prevalenceHIV (p):\n",
    "    x0 = np.array([1,0.00000001,0.00000194])\n",
    "    time = np.linspace(0.0,34.0,35)\n",
    "    nn = len(time)\n",
    "    dt = 1.0/(10.0*nn)\n",
    "    n_quad = 10*nn+1\n",
    "    t_quad = np.linspace(time[0],time[-1],n_quad)\n",
    "    x = odeint(model,x0,t_quad,args=(p,))\n",
    "    S = x[:,0]\n",
    "    I = x[:,1]\n",
    "    beta = p[1]\n",
    "    K = p[5]\n",
    "    xi = 1e-5\n",
    "    f = (beta * I + xi) * S\n",
    "    phi = K * simps(f) * dt\n",
    "    return phi"
   ]
  },
  {
   "cell_type": "code",
   "execution_count": 31,
   "metadata": {},
   "outputs": [],
   "source": [
    "def prevalenceAIDS (p):\n",
    "    x0 = np.array([1,0.00000001,0.00000194])\n",
    "    time = np.linspace(0.0,34.0,35)\n",
    "    nn = len(time)\n",
    "    dt = 1.0/(10.0*nn)\n",
    "    n_quad = 10*nn+1\n",
    "    t_quad = np.linspace(time[0],time[-1],n_quad)\n",
    "    x = odeint(model,x0,t_quad,args=(p,))\n",
    "    I = x[:,1]\n",
    "    sigma = p[3]\n",
    "    K = p[5]\n",
    "    xi = 1e-5\n",
    "    f = sigma * I\n",
    "    phi = K * simps(f) * dt\n",
    "    return phi"
   ]
  },
  {
   "cell_type": "code",
   "execution_count": 32,
   "metadata": {},
   "outputs": [
    {
     "name": "stdout",
     "output_type": "stream",
     "text": [
      "9.999997790349065e-08\n"
     ]
    }
   ],
   "source": [
    "p=[1e-5, 1e-5, 1e-5, 1e-4, 1e-6,1e-2]\n",
    "y_X = prevalenceHIV(p)\n",
    "print(y_X)"
   ]
  },
  {
   "cell_type": "code",
   "execution_count": 33,
   "metadata": {},
   "outputs": [
    {
     "name": "stdout",
     "output_type": "stream",
     "text": [
      "Dimensión de A: (1000000, 6)\n",
      "Dimensión de B: (1000000, 6)\n",
      "Dimensión de C: (6, 1000000, 6)\n"
     ]
    }
   ],
   "source": [
    "# Algorithm to compute Sensitivity Indices\n",
    "\n",
    "A = np.column_stack((mu,beta, nu, sigma,kappa,K))\n",
    "B = np.column_stack((mu_hat,beta_hat, nu_hat, sigma_hat,kappa_hat,K_hat))\n",
    "\n",
    "numcols = len(A[0])\n",
    "C_list = list()\n",
    "i=0\n",
    "while i < numcols:\n",
    "    B_copy = np.copy(B)\n",
    "    B_copy[:,i] = A[:,i]\n",
    "    C_list.append(B_copy)\n",
    "    i+=1\n",
    "\n",
    "print(\"Dimensión de A: \" + str(np.shape(A)))\n",
    "print(\"Dimensión de B: \" + str(np.shape(B)))\n",
    "print(\"Dimensión de C: \" + str(np.shape(C_list)))\n",
    "\n",
    "np.savetxt('A.txt', A)\n",
    "np.savetxt('B.txt', B)"
   ]
  },
  {
   "cell_type": "code",
   "execution_count": 34,
   "metadata": {},
   "outputs": [
    {
     "name": "stdout",
     "output_type": "stream",
     "text": [
      "(1000000, 1)\n",
      "(1000000, 1)\n",
      "(1000000, 6)\n",
      "[[3.02388704e-05]\n",
      " [1.50575188e-05]\n",
      " [8.89045420e-06]\n",
      " ...\n",
      " [4.00825533e-05]\n",
      " [2.90334158e-05]\n",
      " [2.23626944e-05]]\n",
      "[[1.85692018e-05]\n",
      " [3.79328035e-05]\n",
      " [1.91184783e-04]\n",
      " ...\n",
      " [9.92671595e-05]\n",
      " [3.21217996e-05]\n",
      " [5.37018832e-05]]\n",
      "[[3.40904763e-05 1.72012457e-05 1.58306811e-05 2.40589588e-05\n",
      "  1.85692018e-05 1.68332082e-05]\n",
      " [1.77578119e-04 1.34704223e-05 1.94025255e-05 8.81259257e-05\n",
      "  3.79328035e-05 2.87933642e-05]\n",
      " [1.08460043e-04 9.23589932e-06 4.37307829e-03 4.37448486e-04\n",
      "  1.91184783e-04 1.11336729e-04]\n",
      " ...\n",
      " [6.30659826e-05 5.37394466e-03 4.84534861e-05 8.71981855e-05\n",
      "  9.92671595e-05 2.82568286e-05]\n",
      " [5.26086009e-05 1.92585687e-05 6.76592273e-05 1.32744275e-05\n",
      "  3.21217996e-05 5.12265985e-05]\n",
      " [2.78233898e-05 4.25024025e-05 8.69760631e-05 2.87233190e-05\n",
      "  5.37018832e-05 5.98256884e-05]]\n"
     ]
    }
   ],
   "source": [
    "y_A = np.zeros((M,1))\n",
    "y_B = np.zeros((M,1))\n",
    "y_C = np.zeros((M,len(C_list)))\n",
    "\n",
    "for j in range(M):\n",
    "    y_A[j] = prevalenceHIV(A[j,:])\n",
    "    y_B[j] = prevalenceHIV(B[j,:])\n",
    "\n",
    "for i in range(len(C_list)):\n",
    "    for j in range(M):\n",
    "        y_C[j][i]= prevalenceHIV(C_list[i][j,:])\n",
    "        \n",
    "print(np.shape(y_A))\n",
    "print(np.shape(y_B))\n",
    "print(np.shape(y_C))\n",
    "print(y_A)\n",
    "print(y_B)\n",
    "print(y_C)"
   ]
  },
  {
   "cell_type": "code",
   "execution_count": 35,
   "metadata": {},
   "outputs": [
    {
     "name": "stdout",
     "output_type": "stream",
     "text": [
      "0.0015506248932101062\n",
      "0.0017155059170150526\n",
      "2.6601061793727714e-06\n"
     ]
    }
   ],
   "source": [
    "y_A_mean = np.sum(y_A)/M\n",
    "y_B_mean = np.sum(y_B)/M\n",
    "f_0_sqr = y_A_mean * y_B_mean\n",
    "\n",
    "print(y_A_mean)\n",
    "print(y_B_mean)\n",
    "print(f_0_sqr)"
   ]
  },
  {
   "cell_type": "code",
   "execution_count": 36,
   "metadata": {},
   "outputs": [
    {
     "name": "stdout",
     "output_type": "stream",
     "text": [
      "[1.95288635e-06]\n",
      "[9.24269855e-06]\n",
      "[1.4110512e-06]\n",
      "[2.81668174e-06]\n",
      "[5.20138193e-08]\n",
      "[8.04531003e-07]\n",
      "sum_yA_sqr: [47.60289107]\n",
      "var_Y: [4.49427849e-05]\n",
      "[array([0.04345272]), array([0.20565478]), array([0.03139661]), array([0.06267261]), array([0.00115733]), array([0.01790123])]\n"
     ]
    }
   ],
   "source": [
    "S = []\n",
    "\n",
    "sum_yA_sqr = 0\n",
    "for i in range(M):\n",
    "    sum_yA_sqr += y_A[i] * y_A[i]\n",
    "var_Y = (1/M)* sum_yA_sqr - f_0_sqr\n",
    "    \n",
    "for i in range(len(C_list)):\n",
    "    sum_yA_yC = 0    \n",
    "    for j in range(M):\n",
    "        sum_yA_yC += y_A[j] * y_C[j][i]       \n",
    "    var_e_y_q_i = sum_yA_yC/M - f_0_sqr\n",
    "    print(var_e_y_q_i)\n",
    "    S.append(var_e_y_q_i/var_Y)\n",
    "\n",
    "print(\"sum_yA_sqr: \" + str(sum_yA_sqr))\n",
    "print(\"var_Y: \" + str(var_Y))\n",
    "print(S)"
   ]
  },
  {
   "cell_type": "code",
   "execution_count": 37,
   "metadata": {},
   "outputs": [
    {
     "name": "stdout",
     "output_type": "stream",
     "text": [
      "[array([0.35584337]), array([0.81329908]), array([0.26704823]), array([0.09432593]), array([-0.08259376]), array([-0.08474156])]\n"
     ]
    }
   ],
   "source": [
    "ST = []\n",
    "\n",
    "for i in range(len(C_list)):\n",
    "    sum_yB_yC = 0\n",
    "    for j in range(M):\n",
    "        sum_yB_yC += y_B[j] * y_C[j][i]\n",
    "    var_e_y_q_i = (1/M)* sum_yB_yC - f_0_sqr\n",
    "    ST.append(1- (var_e_y_q_i/var_Y))\n",
    "    \n",
    "print(ST)"
   ]
  },
  {
   "cell_type": "code",
   "execution_count": 38,
   "metadata": {},
   "outputs": [
    {
     "name": "stdout",
     "output_type": "stream",
     "text": [
      "           mu      beta        nu     sigma     kappa         K\n",
      "Si   0.043453  0.205655  0.031397  0.062673  0.001157  0.017901\n",
      "STi  0.355843  0.813299  0.267048  0.094326 -0.082594 -0.084742\n"
     ]
    }
   ],
   "source": [
    "indices = np.row_stack((np.transpose(S),np.transpose(ST)))\n",
    "sobol_indices = pd.DataFrame(indices, index = (['Si', 'STi']), columns= ['mu', 'beta', 'nu', 'sigma', 'kappa', 'K'])\n",
    "print(sobol_indices)"
   ]
  }
 ],
 "metadata": {
  "kernelspec": {
   "display_name": "Python 3",
   "language": "python",
   "name": "python3"
  },
  "language_info": {
   "codemirror_mode": {
    "name": "ipython",
    "version": 3
   },
   "file_extension": ".py",
   "mimetype": "text/x-python",
   "name": "python",
   "nbconvert_exporter": "python",
   "pygments_lexer": "ipython3",
   "version": "3.8.5"
  }
 },
 "nbformat": 4,
 "nbformat_minor": 2
}
