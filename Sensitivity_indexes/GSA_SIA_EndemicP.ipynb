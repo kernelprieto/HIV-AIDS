{
 "cells": [
  {
   "cell_type": "code",
   "execution_count": 36,
   "metadata": {},
   "outputs": [],
   "source": [
    "import numpy as np\n",
    "from scipy.integrate import odeint\n",
    "from scipy.integrate import simps\n",
    "import pandas as pd"
   ]
  },
  {
   "cell_type": "code",
   "execution_count": 37,
   "metadata": {},
   "outputs": [],
   "source": [
    "M = 10000\n",
    "a_1 = 10.\n",
    "b_1 = 1.\n",
    "\n",
    "mu     = np.random.gamma(a_1, b_1, M)\n",
    "beta   = np.random.gamma(a_1, b_1, M)\n",
    "nu     = np.random.gamma(a_1, b_1, M)\n",
    "sigma  = np.random.gamma(a_1, b_1, M)\n",
    "kappa  = np.random.gamma(a_1, b_1, M)\n",
    "K      = np.random.gamma(a_1, b_1, M)\n",
    "\n",
    "mu_hat     = np.random.gamma(a_1, b_1, M)\n",
    "beta_hat   = np.random.gamma(a_1, b_1, M)\n",
    "nu_hat     = np.random.gamma(a_1, b_1, M)\n",
    "sigma_hat  = np.random.gamma(a_1, b_1, M)\n",
    "kappa_hat  = np.random.gamma(a_1, b_1, M)\n",
    "K_hat      = np.random.gamma(a_1, b_1, M)\n",
    "\n",
    "# Mínimos y máximos\n",
    "mu_m,mu_M       = 1e-5,0.1\n",
    "beta_m,beta_M   = 1e-5,0.99\n",
    "nu_m,nu_M       = 1e-5,0.1\n",
    "sigma_m,sigma_M = 1e-4,0.9\n",
    "kappa_m,kappa_M = 1e-6,1e-4\n",
    "K_m,K_M         = 1e-2,100.\n",
    "\n",
    "# Normalización de parámetros\n",
    "mu = (mu_M - mu_m)* ( mu - min(mu) ) / ( max(mu) - min(mu) ) + mu_m\n",
    "beta = (beta_M - beta_m)* ( beta - min(beta) ) / ( max(beta) - min(beta) ) + beta_m\n",
    "nu = (nu_M - nu_m)* ( nu - min(nu) ) / ( max(nu) - min(nu) ) + nu_m\n",
    "sigma = (sigma_M - sigma_m)* ( sigma - min(sigma) ) / ( max(sigma) - min(sigma) ) + sigma_m\n",
    "kappa = (kappa_M - kappa_m)* ( kappa - min(kappa) ) / ( max(kappa) - min(kappa) ) + kappa_m\n",
    "K = (K_M - K_m)* ( K - min(K) ) / ( max(K) - min(K) ) + K_m\n",
    "\n",
    "mu_hat = (mu_M - mu_m)* ( mu_hat - min(mu_hat) ) / ( max(mu_hat) - min(mu_hat) ) + mu_m\n",
    "beta_hat = (beta_M - beta_m)* ( beta_hat - min(beta_hat) ) / ( max(beta_hat) - min(beta_hat) ) + beta_m\n",
    "nu_hat = (nu_M - nu_m)* ( nu_hat - min(nu_hat) ) / ( max(nu_hat) - min(nu_hat) ) + nu_m\n",
    "sigma_hat = (sigma_M - sigma_m)* ( sigma_hat - min(sigma_hat) ) / ( max(sigma_hat) - min(sigma_hat) ) + sigma_m\n",
    "kappa_hat = (kappa_M - kappa_m)* ( kappa_hat - min(kappa_hat) ) / ( max(kappa_hat) - min(kappa_hat) ) + kappa_m\n",
    "K_hat = (K_M - K_m)* ( K_hat - min(K_hat) ) / ( max(K_hat) - min(K_hat) ) + K_m"
   ]
  },
  {
   "cell_type": "code",
   "execution_count": 38,
   "metadata": {},
   "outputs": [],
   "source": [
    "def model (x,t,p):\n",
    "    \"\"\"\n",
    "    p[0]=mu,p[1]=beta,p[2]=nu,p[3]=sigma,p[4]=kappa, p[5]=K\n",
    "    \"\"\"\n",
    "    fx = np.zeros(3)\n",
    "    xi = 1e-5\n",
    "    fx[0] = p[0] - ((p[1]*x[1]) + p[2]  + xi  )*x[0]\n",
    "    fx[1] = ((p[1]*x[1])+ xi ) *x[0] - (p[3] + p[2])*x[1]\n",
    "    fx[2] = p[3]*x[1] - (p[4] + p[2])*x[2]\n",
    "    return fx"
   ]
  },
  {
   "cell_type": "code",
   "execution_count": 39,
   "metadata": {},
   "outputs": [],
   "source": [
    "# En construcción\n",
    "def R0(p):\n",
    "    x0 = np.array([1,0.00000001,0.00000194])\n",
    "    time = np.linspace(0.0,34.0,35)\n",
    "    nn = len(time)\n",
    "    dt = 1.0/(10.0*nn)\n",
    "    n_quad = 10.0*nn+1\n",
    "    t_quad = np.linspace(time[0],time[-1],n_quad)\n",
    "    x = odeint(model,x0,t_quad,args=(p,))\n",
    "    S = x[:,0]\n",
    "    I = x[:,1]\n",
    "    beta = p[1]\n",
    "    sigma = p[2]\n",
    "    nu = p[3]\n",
    "    f = beta / (sigma + nu)\n",
    "    return f\n",
    "\n",
    "\n",
    "# En construcción\n",
    "def InfectedEndemicP(p):\n",
    "    x0 = np.array([1,0.00000001,0.00000194])\n",
    "    time = np.linspace(0.0,34.0,35)\n",
    "    nn = len(time)\n",
    "    dt = 1.0/(10.0*nn)\n",
    "    n_quad = 10.0*nn+1\n",
    "    t_quad = np.linspace(time[0],time[-1],n_quad)\n",
    "    x = odeint(model,x0,t_quad,args=(p,))\n",
    "    S = x[:,0]\n",
    "    I = x[:,1]\n",
    "    mu    =p[0]\n",
    "    beta  = p[1]\n",
    "    sigma = p[2]\n",
    "    nu    = p[3]\n",
    "    kappa =p[4]\n",
    "    f = -(mu*(kappa + nu)*(-beta + nu + sigma)) / (( nu + sigma)*beta*(kappa + nu ) -kappa * sigma )\n",
    "    return f\n",
    "    "
   ]
  },
  {
   "cell_type": "code",
   "execution_count": 40,
   "metadata": {},
   "outputs": [],
   "source": [
    "def prevalenceHIV (p):\n",
    "    x0 = np.array([1,0.00000001,0.00000194])\n",
    "    time = np.linspace(0.0,34.0,35)\n",
    "    nn = len(time)\n",
    "    dt = 1.0/(10.0*nn)\n",
    "    n_quad = 10.0*nn+1\n",
    "    t_quad = np.linspace(time[0],time[-1],n_quad)\n",
    "    x = odeint(model,x0,t_quad,args=(p,))\n",
    "    S = x[:,0]\n",
    "    I = x[:,1]\n",
    "    beta = p[1]\n",
    "    K = p[5]\n",
    "    xi = 1e-5\n",
    "    f = (beta * I + xi) * S\n",
    "    phi = K * simps(f) * dt\n",
    "    return phi"
   ]
  },
  {
   "cell_type": "code",
   "execution_count": 41,
   "metadata": {},
   "outputs": [],
   "source": [
    "def prevalenceAIDS (p):\n",
    "    x0 = np.array([1,0.00000001,0.00000194])\n",
    "    time = np.linspace(0.0,34.0,35)\n",
    "    nn = len(time)\n",
    "    dt = 1.0/(10.0*nn)\n",
    "    n_quad = 10.0*nn+1\n",
    "    t_quad = np.linspace(time[0],time[-1],n_quad)\n",
    "    x = odeint(model,x0,t_quad,args=(p,))\n",
    "    I = x[:,1]\n",
    "    sigma = p[3]\n",
    "    K = p[5]\n",
    "    xi = 1e-5\n",
    "    f = sigma * I\n",
    "    phi = K * simps(f) * dt\n",
    "    return phi"
   ]
  },
  {
   "cell_type": "code",
   "execution_count": 42,
   "metadata": {},
   "outputs": [
    {
     "name": "stdout",
     "output_type": "stream",
     "text": [
      "9.999997790349065e-08\n"
     ]
    },
    {
     "name": "stderr",
     "output_type": "stream",
     "text": [
      "/home/kernel/anaconda3/lib/python3.6/site-packages/ipykernel_launcher.py:7: DeprecationWarning: object of type <class 'float'> cannot be safely interpreted as an integer.\n",
      "  import sys\n"
     ]
    }
   ],
   "source": [
    "p=[1e-5, 1e-5, 1e-5, 1e-4, 1e-6,1e-2]\n",
    "y_X = prevalenceHIV(p)\n",
    "print(y_X)"
   ]
  },
  {
   "cell_type": "code",
   "execution_count": 43,
   "metadata": {},
   "outputs": [
    {
     "name": "stdout",
     "output_type": "stream",
     "text": [
      "Dimensión de A: (10000, 6)\n",
      "Dimensión de B: (10000, 6)\n",
      "Dimensión de C: (6, 10000, 6)\n"
     ]
    }
   ],
   "source": [
    "# Algorithm to compute Sensitivity Indices\n",
    "\n",
    "A = np.column_stack((mu,beta, nu, sigma,kappa,K))\n",
    "B = np.column_stack((mu_hat,beta_hat, nu_hat, sigma_hat,kappa_hat,K_hat))\n",
    "\n",
    "numcols = len(A[0])\n",
    "C_list = list()\n",
    "i=0\n",
    "while i < numcols:\n",
    "    B_copy = np.copy(B)\n",
    "    B_copy[:,i] = A[:,i]\n",
    "    C_list.append(B_copy)\n",
    "    i+=1\n",
    "\n",
    "print(\"Dimensión de A: \" + str(np.shape(A)))\n",
    "print(\"Dimensión de B: \" + str(np.shape(B)))\n",
    "print(\"Dimensión de C: \" + str(np.shape(C_list)))\n",
    "\n",
    "np.savetxt('A.txt', A)\n",
    "np.savetxt('B.txt', B)"
   ]
  },
  {
   "cell_type": "code",
   "execution_count": 44,
   "metadata": {},
   "outputs": [
    {
     "name": "stderr",
     "output_type": "stream",
     "text": [
      "/home/kernel/anaconda3/lib/python3.6/site-packages/ipykernel_launcher.py:26: DeprecationWarning: object of type <class 'float'> cannot be safely interpreted as an integer.\n"
     ]
    },
    {
     "name": "stdout",
     "output_type": "stream",
     "text": [
      "(10000, 1)\n",
      "(10000, 1)\n",
      "(10000, 6)\n",
      "[[ 0.00384495]\n",
      " [-0.01379671]\n",
      " [-0.55158921]\n",
      " ...\n",
      " [ 0.0090156 ]\n",
      " [ 0.02352211]\n",
      " [-0.00518118]]\n",
      "[[ 0.21079065]\n",
      " [ 0.11630519]\n",
      " [ 0.04781206]\n",
      " ...\n",
      " [ 0.03900691]\n",
      " [-0.10522662]\n",
      " [-0.08182255]]\n",
      "[[ 0.13929549  0.22193365  0.23228617 -0.00864259  0.2107706   0.21079065]\n",
      " [ 0.07168587  0.00985242  0.14318625  0.06860793  0.11629964  0.11630519]\n",
      " [ 0.02546054 -1.02148873  0.04280608  0.03772487  0.04781187  0.04781206]\n",
      " ...\n",
      " [ 0.03196938  0.0702872   0.05437301 -0.02601939  0.03900729  0.03900691]\n",
      " [-0.07329507 -0.00246667 -0.10619986 -0.06557409 -0.10522718 -0.10522662]\n",
      " [-0.02380968 -0.01506987 -0.06523466 -0.09716839 -0.08182252 -0.08182255]]\n"
     ]
    }
   ],
   "source": [
    "y_A = np.zeros((M,1))\n",
    "y_B = np.zeros((M,1))\n",
    "y_C = np.zeros((M,len(C_list)))\n",
    "\n",
    "for j in range(M):\n",
    "    y_A[j] = InfectedEndemicP(A[j,:])\n",
    "    y_B[j] = InfectedEndemicP(B[j,:])\n",
    "\n",
    "for i in range(len(C_list)):\n",
    "    for j in range(M):\n",
    "        y_C[j][i]= InfectedEndemicP(C_list[i][j,:])\n",
    "        \n",
    "print(np.shape(y_A))\n",
    "print(np.shape(y_B))\n",
    "print(np.shape(y_C))\n",
    "print(y_A)\n",
    "print(y_B)\n",
    "print(y_C)"
   ]
  },
  {
   "cell_type": "code",
   "execution_count": 45,
   "metadata": {},
   "outputs": [
    {
     "name": "stdout",
     "output_type": "stream",
     "text": [
      "2.3606682750938925\n",
      "5.180749311638861\n",
      "12.230030541200382\n"
     ]
    }
   ],
   "source": [
    "y_A_mean = np.sum(y_A)/M\n",
    "y_B_mean = np.sum(y_B)/M\n",
    "f_0_sqr = y_A_mean * y_B_mean\n",
    "\n",
    "print(y_A_mean)\n",
    "print(y_B_mean)\n",
    "print(f_0_sqr)"
   ]
  },
  {
   "cell_type": "code",
   "execution_count": 46,
   "metadata": {},
   "outputs": [
    {
     "name": "stdout",
     "output_type": "stream",
     "text": [
      "[-12.48259506]\n",
      "[16089.18640774]\n",
      "[-12.39959975]\n",
      "[-12.39861119]\n",
      "[-12.4141297]\n",
      "[-12.41824453]\n",
      "sum_yA_sqr: [5.88100851e+08]\n",
      "var_Y: [58797.85502158]\n",
      "[array([-0.0002123]), array([0.2736356]), array([-0.00021089]), array([-0.00021087]), array([-0.00021113]), array([-0.0002112])]\n"
     ]
    }
   ],
   "source": [
    "S = []\n",
    "\n",
    "sum_yA_sqr = 0\n",
    "for i in range(M):\n",
    "    sum_yA_sqr += y_A[i] * y_A[i]\n",
    "var_Y = (1/M)* sum_yA_sqr - f_0_sqr\n",
    "    \n",
    "for i in range(len(C_list)):\n",
    "    sum_yA_yC = 0    \n",
    "    for j in range(M):\n",
    "        sum_yA_yC += y_A[j] * y_C[j][i]       \n",
    "    var_e_y_q_i = sum_yA_yC/M - f_0_sqr\n",
    "    print(var_e_y_q_i)\n",
    "    S.append(var_e_y_q_i/var_Y)\n",
    "\n",
    "print(\"sum_yA_sqr: \" + str(sum_yA_sqr))\n",
    "print(\"var_Y: \" + str(var_Y))\n",
    "print(S)"
   ]
  },
  {
   "cell_type": "code",
   "execution_count": 47,
   "metadata": {},
   "outputs": [
    {
     "name": "stdout",
     "output_type": "stream",
     "text": [
      "[array([-2.70696704]), array([1.00020978]), array([2.39128368]), array([-1.70335765]), array([-2.5338678]), array([-3.54039649])]\n"
     ]
    }
   ],
   "source": [
    "ST = []\n",
    "\n",
    "for i in range(len(C_list)):\n",
    "    sum_yB_yC = 0\n",
    "    for j in range(M):\n",
    "        sum_yB_yC += y_B[j] * y_C[j][i]\n",
    "    var_e_y_q_i = (1/M)* sum_yB_yC - f_0_sqr\n",
    "    ST.append(1- (var_e_y_q_i/var_Y))\n",
    "    \n",
    "print(ST)"
   ]
  },
  {
   "cell_type": "code",
   "execution_count": 48,
   "metadata": {},
   "outputs": [
    {
     "name": "stdout",
     "output_type": "stream",
     "text": [
      "           mu      beta        nu     sigma     kappa         K\n",
      "Si  -0.000212  0.273636 -0.000211 -0.000211 -0.000211 -0.000211\n",
      "STi -2.706967  1.000210  2.391284 -1.703358 -2.533868 -3.540396\n"
     ]
    }
   ],
   "source": [
    "indices = np.row_stack((np.transpose(S),np.transpose(ST)))\n",
    "sobol_indices = pd.DataFrame(indices, index = (['Si', 'STi']), columns= ['mu', 'beta', 'nu', 'sigma', 'kappa', 'K'])\n",
    "print(sobol_indices)"
   ]
  }
 ],
 "metadata": {
  "kernelspec": {
   "display_name": "Python 3",
   "language": "python",
   "name": "python3"
  },
  "language_info": {
   "codemirror_mode": {
    "name": "ipython",
    "version": 3
   },
   "file_extension": ".py",
   "mimetype": "text/x-python",
   "name": "python",
   "nbconvert_exporter": "python",
   "pygments_lexer": "ipython3",
   "version": "3.8.5"
  }
 },
 "nbformat": 4,
 "nbformat_minor": 2
}
