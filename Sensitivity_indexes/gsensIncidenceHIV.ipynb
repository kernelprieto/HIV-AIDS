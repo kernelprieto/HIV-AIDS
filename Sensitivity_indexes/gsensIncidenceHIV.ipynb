{
 "cells": [
  {
   "cell_type": "code",
   "execution_count": 83,
   "metadata": {},
   "outputs": [],
   "source": [
    "import numpy as np\n",
    "from numpy import vstack\n",
    "from scipy import integrate,stats"
   ]
  },
  {
   "cell_type": "code",
   "execution_count": 84,
   "metadata": {},
   "outputs": [],
   "source": [
    "M = 10000\n",
    "a_1 = 10.\n",
    "b_1 = 1.\n",
    "\n",
    "\n",
    "mu     = np.random.gamma(a_1, b_1, M)\n",
    "beta   = np.random.gamma(a_1, b_1, M)\n",
    "nu     = np.random.gamma(a_1, b_1, M)\n",
    "sigma  = np.random.gamma(a_1, b_1, M)\n",
    "kappa  = np.random.gamma(a_1, b_1, M)\n",
    "K      = np.random.gamma(a_1, b_1, M)\n",
    "\n",
    "mu_hat     = np.random.gamma(a_1, b_1, M)\n",
    "beta_hat   = np.random.gamma(a_1, b_1, M)\n",
    "nu_hat     = np.random.gamma(a_1, b_1, M)\n",
    "sigma_hat  = np.random.gamma(a_1, b_1, M)\n",
    "kappa_hat  = np.random.gamma(a_1, b_1, M)\n",
    "K_hat      = np.random.gamma(a_1, b_1, M)\n",
    "\n",
    "mu_m,mu_M       = 1e-5,0.1\n",
    "beta_m,beta_M   = 1e-5,0.99\n",
    "nu_m,nu_M       = 1e-5,0.1\n",
    "sigma_m,sigma_M = 1e-4,0.9\n",
    "kappa_m,kappa_M = 1e-6,1e-4\n",
    "K_m,K_M         = 1e-2,4.\n",
    "\n",
    "mu = (mu_M - mu_m)* ( mu - min(mu) ) / ( max(mu) - min(mu) ) + mu_m\n",
    "beta = (beta_M - beta_m)* ( beta - min(beta) ) / ( max(beta) - min(beta) ) + beta_m\n",
    "nu = (nu_M - nu_m)* ( nu - min(nu) ) / ( max(nu) - min(nu) ) + nu_m\n",
    "sigma = (sigma_M - sigma_m)* ( sigma - min(sigma) ) / ( max(sigma) - min(sigma) ) + sigma_m\n",
    "kappa = (kappa_M - kappa_m)* ( kappa - min(kappa) ) / ( max(kappa) - min(kappa) ) + kappa_m\n",
    "K = (K_M - K_m)* ( K - min(K) ) / ( max(K) - min(K) ) + K_m\n",
    "#print(beta)\n",
    "mu_hat = (mu_M - mu_m)* ( mu_hat - min(mu_hat) ) / ( max(mu_hat) - min(mu_hat) ) + mu_m\n",
    "beta_hat = (beta_M - beta_m)* ( beta_hat - min(beta_hat) ) / ( max(beta_hat) - min(beta_hat) ) + beta_m\n",
    "nu_hat = (nu_M - nu_m)* ( nu_hat - min(nu_hat) ) / ( max(nu_hat) - min(nu_hat) ) + nu_m\n",
    "sigma_hat = (sigma_M - sigma_m)* ( sigma_hat - min(sigma_hat) ) / ( max(sigma_hat) - min(sigma_hat) ) + sigma_m\n",
    "kappa_hat = (kappa_M - kappa_m)* ( kappa_hat - min(kappa_hat) ) / ( max(kappa_hat) - min(kappa_hat) ) + kappa_m\n",
    "K_hat = (K_M - K_m)* ( K_hat - min(K_hat) ) / ( max(K_hat) - min(K_hat) ) + K_m"
   ]
  },
  {
   "cell_type": "code",
   "execution_count": 85,
   "metadata": {},
   "outputs": [],
   "source": [
    "A = np.column_stack((mu,beta, nu, sigma,kappa,K))\n",
    "B = np.column_stack((mu_hat,beta_hat, nu_hat, sigma_hat,kappa_hat,K_hat))"
   ]
  },
  {
   "cell_type": "code",
   "execution_count": 86,
   "metadata": {},
   "outputs": [],
   "source": [
    "numcols = len(A[0])\n",
    "C_list = list()\n",
    "\n",
    "i=0\n",
    "while i < numcols:\n",
    "    B_copy = np.copy(B)\n",
    "    B_copy[:,i] = A[:,i]\n",
    "    C_list.append(B_copy)\n",
    "    i+=1\n",
    "\n",
    "#print(len(C_list))"
   ]
  },
  {
   "cell_type": "code",
   "execution_count": 87,
   "metadata": {},
   "outputs": [],
   "source": [
    "#This global index S_i is for total Incidence  respect to the first parameter (mu)\n",
    "y_A=np.zeros((M, 1))\n",
    "y_C=np.zeros((M, 1))\n",
    "y_B=np.zeros((M, 1))\n",
    "\n",
    "\n",
    "s=6 # 5 number of parameters\n",
    "p=np.zeros((s, 1))\n",
    "time = np.linspace(0.0,34.0,35)\n",
    "\n",
    "# pesos para la cuadratura trapezoidal\n",
    "weigths = np.ones(11)\n",
    "weigths[0] = 0.5\n",
    "weigths[-1] = 0.5\n",
    "\n",
    "\n",
    "def modelo(x,t,p):\n",
    "    \"\"\"\n",
    "    Entrada\n",
    "    x - estado\n",
    "    t -tiempo\n",
    "    p - parámetros\n",
    "    Salida\n",
    "    fx - lado derecho de la ecuación diferencial parcial que define el modelo\n",
    "    p[0]=mu,p[1]=beta,p[2]=nu,p[3]=sigma,p[4]=kappa, p[5]=K \n",
    "    \"\"\"\n",
    "  \n",
    "    fx = np.zeros(3)\n",
    "    xi=1e-5\n",
    "    \n",
    "    fx[0] = p[0] - ((p[1]*x[1]) + p[2]  + xi  )*x[0]\n",
    "    fx[1] = ((p[1]*x[1])+ xi ) *x[0] - (p[3] + p[2])*x[1]\n",
    "    fx[2] = p[3]*x[1] - (p[4] + p[2])*x[2]\n",
    "    return fx\n",
    "\n",
    "\n",
    "def solve(p):\n",
    "    xi=1e-5\n",
    "    x0 = np.array([1,0.00000001,0.00000194])\n",
    "    nn = len(time)\n",
    "    dt = 1.0/(10.0*nn)\n",
    "    n_quad = 10.0*nn+1\n",
    "    t_quad = np.linspace(time[0],time[-1],n_quad)\n",
    "    soln = integrate.odeint(modelo,x0,t_quad,args=(p,))\n",
    "    \n",
    "    result = np.zeros(nn)\n",
    "    \n",
    "    for k in np.arange(35):   \n",
    "        x_s = soln[10*k:10*(k+1)+1,0]\n",
    "        x_i = soln[10*k:10*(k+1)+1,1]\n",
    "        incidence = (p[1]*x_i+xi)*x_s       \n",
    "        result[k] = dt*np.dot(weigths,incidence) \n",
    "        \n",
    "    return p[5]*sum(result)"
   ]
  },
  {
   "cell_type": "code",
   "execution_count": 88,
   "metadata": {},
   "outputs": [
    {
     "name": "stderr",
     "output_type": "stream",
     "text": [
      "/home/kernel/.conda/envs/tf36/lib/python3.7/site-packages/ipykernel_launcher.py:43: DeprecationWarning: object of type <class 'float'> cannot be safely interpreted as an integer.\n"
     ]
    },
    {
     "name": "stdout",
     "output_type": "stream",
     "text": [
      "[[5.41799522e-05]]\n",
      "[[0.00040589]]\n",
      "[1.38272294e-05]\n",
      "[[4.03527228e-05]]\n",
      "[[0.00039206]]\n",
      "[[0.10292486]]\n"
     ]
    }
   ],
   "source": [
    "#This global index S_i is for total Incidence with respect to the first parameter (mu)\n",
    "for i in range(M):    \n",
    "    for k in range(s):\n",
    "        p[k]=A[i][k]\n",
    "        incidence_total_A=solve(p)\n",
    "        y_A[i]=incidence_total_A\n",
    "                \n",
    "        \n",
    "    for k in range(s):\n",
    "        p[k]=B[i][k]\n",
    "        incidence_total_B=solve(p)\n",
    "        y_B[i]=incidence_total_B\n",
    "        \n",
    "    for k in range(s):\n",
    "        p[k]=C_list[0][i][k] # 0 corresponds to mu\n",
    "        incidence_total_C1=solve(p)\n",
    "        y_C[i]=incidence_total_C1    \n",
    "#    print(i)        \n",
    "#    print(p)\n",
    "           \n",
    "#    print(y_C)\n",
    "\n",
    "y_A_y_C=(1./M)*np.matmul(np.transpose(y_A), y_C)\n",
    "y_A_y_A=(1./M)*np.matmul(np.transpose(y_A), y_A)\n",
    "f_0_sq =( (1./M)*sum(y_A)  )*( (1./M)*sum(y_B)  )\n",
    "var_E_Y_q_i= y_A_y_C - f_0_sq\n",
    "var_Y      = y_A_y_A - f_0_sq\n",
    "S_i        = var_E_Y_q_i/var_Y\n",
    "print(y_A_y_C)\n",
    "print(y_A_y_A)\n",
    "print(f_0_sq)\n",
    "print(var_E_Y_q_i)\n",
    "print(var_Y)\n",
    "print(S_i)"
   ]
  },
  {
   "cell_type": "code",
   "execution_count": 89,
   "metadata": {},
   "outputs": [
    {
     "name": "stderr",
     "output_type": "stream",
     "text": [
      "/home/kernel/.conda/envs/tf36/lib/python3.7/site-packages/ipykernel_launcher.py:43: DeprecationWarning: object of type <class 'float'> cannot be safely interpreted as an integer.\n"
     ]
    },
    {
     "name": "stdout",
     "output_type": "stream",
     "text": [
      "[[6.47330583e-05]]\n",
      "[[0.00040589]]\n",
      "[1.38272294e-05]\n",
      "[[5.09058289e-05]]\n",
      "[[0.00039206]]\n",
      "[[0.12984193]]\n"
     ]
    }
   ],
   "source": [
    "#This global index S_i is for total Incidence with respect to the first parameter beta\n",
    "for i in range(M):\n",
    "        \n",
    "    for k in range(s):\n",
    "        p[k]=C_list[1][i][k] # 1 corresponds to beta\n",
    "        incidence_total_C1=solve(p)\n",
    "        y_C[i]=incidence_total_C1    \n",
    "\n",
    "y_A_y_C=(1./M)*np.matmul(np.transpose(y_A), y_C)\n",
    "y_A_y_A=(1./M)*np.matmul(np.transpose(y_A), y_A)\n",
    "f_0_sq =( (1./M)*sum(y_A)  )*( (1./M)*sum(y_B)  )\n",
    "var_E_Y_q_i= y_A_y_C - f_0_sq\n",
    "var_Y      = y_A_y_A - f_0_sq\n",
    "S_i        = var_E_Y_q_i/var_Y\n",
    "print(y_A_y_C)\n",
    "print(y_A_y_A)\n",
    "print(f_0_sq)\n",
    "print(var_E_Y_q_i)\n",
    "print(var_Y)\n",
    "print(S_i)"
   ]
  },
  {
   "cell_type": "code",
   "execution_count": 90,
   "metadata": {},
   "outputs": [
    {
     "name": "stderr",
     "output_type": "stream",
     "text": [
      "/home/kernel/.conda/envs/tf36/lib/python3.7/site-packages/ipykernel_launcher.py:43: DeprecationWarning: object of type <class 'float'> cannot be safely interpreted as an integer.\n"
     ]
    },
    {
     "name": "stdout",
     "output_type": "stream",
     "text": [
      "[[1.50884872e-05]]\n",
      "[[0.00040589]]\n",
      "[1.38272294e-05]\n",
      "[[1.26125778e-06]]\n",
      "[[0.00039206]]\n",
      "[[0.003217]]\n"
     ]
    }
   ],
   "source": [
    "#This global index S_i is for total Incidence with respect to the first parameter nu\n",
    "for i in range(M):\n",
    "        \n",
    "    for k in range(s):\n",
    "        p[k]=C_list[2][i][k] # 2 corresponds to nu\n",
    "        incidence_total_C1=solve(p)\n",
    "        y_C[i]=incidence_total_C1    \n",
    "\n",
    "y_A_y_C=(1./M)*np.matmul(np.transpose(y_A), y_C)\n",
    "y_A_y_A=(1./M)*np.matmul(np.transpose(y_A), y_A)\n",
    "f_0_sq =( (1./M)*sum(y_A)  )*( (1./M)*sum(y_B)  )\n",
    "var_E_Y_q_i= y_A_y_C - f_0_sq\n",
    "var_Y      = y_A_y_A - f_0_sq\n",
    "S_i        = var_E_Y_q_i/var_Y\n",
    "print(y_A_y_C)\n",
    "print(y_A_y_A)\n",
    "print(f_0_sq)\n",
    "print(var_E_Y_q_i)\n",
    "print(var_Y)\n",
    "print(S_i)"
   ]
  },
  {
   "cell_type": "code",
   "execution_count": 91,
   "metadata": {},
   "outputs": [
    {
     "name": "stderr",
     "output_type": "stream",
     "text": [
      "/home/kernel/.conda/envs/tf36/lib/python3.7/site-packages/ipykernel_launcher.py:43: DeprecationWarning: object of type <class 'float'> cannot be safely interpreted as an integer.\n"
     ]
    },
    {
     "name": "stdout",
     "output_type": "stream",
     "text": [
      "[[2.59832646e-05]]\n",
      "[[0.00040589]]\n",
      "[1.38272294e-05]\n",
      "[[1.21560352e-05]]\n",
      "[[0.00039206]]\n",
      "[[0.03100555]]\n"
     ]
    }
   ],
   "source": [
    "#This global index S_i is for total Incidence with respect to the first parameter sigma\n",
    "for i in range(M):\n",
    "        \n",
    "    for k in range(s):\n",
    "        p[k]=C_list[3][i][k] # 2 corresponds to sigma\n",
    "        incidence_total_C1=solve(p)\n",
    "        y_C[i]=incidence_total_C1    \n",
    "\n",
    "y_A_y_C=(1./M)*np.matmul(np.transpose(y_A), y_C)\n",
    "y_A_y_A=(1./M)*np.matmul(np.transpose(y_A), y_A)\n",
    "f_0_sq =( (1./M)*sum(y_A)  )*( (1./M)*sum(y_B)  )\n",
    "var_E_Y_q_i= y_A_y_C - f_0_sq\n",
    "var_Y      = y_A_y_A - f_0_sq\n",
    "S_i        = var_E_Y_q_i/var_Y\n",
    "print(y_A_y_C)\n",
    "print(y_A_y_A)\n",
    "print(f_0_sq)\n",
    "print(var_E_Y_q_i)\n",
    "print(var_Y)\n",
    "print(S_i)"
   ]
  },
  {
   "cell_type": "code",
   "execution_count": 92,
   "metadata": {},
   "outputs": [
    {
     "name": "stderr",
     "output_type": "stream",
     "text": [
      "/home/kernel/.conda/envs/tf36/lib/python3.7/site-packages/ipykernel_launcher.py:43: DeprecationWarning: object of type <class 'float'> cannot be safely interpreted as an integer.\n"
     ]
    },
    {
     "name": "stdout",
     "output_type": "stream",
     "text": [
      "[[1.21982016e-05]]\n",
      "[[0.00040589]]\n",
      "[1.38272294e-05]\n",
      "[[-1.62902777e-06]]\n",
      "[[0.00039206]]\n",
      "[[-0.00415505]]\n"
     ]
    }
   ],
   "source": [
    "#This global index S_i is for total Incidence with respect to the first parameter kappa\n",
    "for i in range(M):\n",
    "        \n",
    "    for k in range(s):\n",
    "        p[k]=C_list[4][i][k] # 2 corresponds to kappa\n",
    "        incidence_total_C1=solve(p)\n",
    "        y_C[i]=incidence_total_C1    \n",
    "\n",
    "y_A_y_C=(1./M)*np.matmul(np.transpose(y_A), y_C)\n",
    "y_A_y_A=(1./M)*np.matmul(np.transpose(y_A), y_A)\n",
    "f_0_sq =( (1./M)*sum(y_A)  )*( (1./M)*sum(y_B)  )\n",
    "var_E_Y_q_i= y_A_y_C - f_0_sq\n",
    "var_Y      = y_A_y_A - f_0_sq\n",
    "S_i        = var_E_Y_q_i/var_Y\n",
    "print(y_A_y_C)\n",
    "print(y_A_y_A)\n",
    "print(f_0_sq)\n",
    "print(var_E_Y_q_i)\n",
    "print(var_Y)\n",
    "print(S_i)"
   ]
  },
  {
   "cell_type": "code",
   "execution_count": 93,
   "metadata": {},
   "outputs": [
    {
     "name": "stderr",
     "output_type": "stream",
     "text": [
      "/home/kernel/.conda/envs/tf36/lib/python3.7/site-packages/ipykernel_launcher.py:43: DeprecationWarning: object of type <class 'float'> cannot be safely interpreted as an integer.\n"
     ]
    },
    {
     "name": "stdout",
     "output_type": "stream",
     "text": [
      "[[1.82639374e-05]]\n",
      "[[0.00040589]]\n",
      "[1.38272294e-05]\n",
      "[[4.43670803e-06]]\n",
      "[[0.00039206]]\n",
      "[[0.0113164]]\n"
     ]
    }
   ],
   "source": [
    "#This global index S_i is for total Incidence with respect to the first parameter K\n",
    "for i in range(M):\n",
    "        \n",
    "    for k in range(s):\n",
    "        p[k]=C_list[5][i][k] # 2 corresponds to K\n",
    "        incidence_total_C1=solve(p)\n",
    "        y_C[i]=incidence_total_C1    \n",
    "\n",
    "y_A_y_C=(1./M)*np.matmul(np.transpose(y_A), y_C)\n",
    "y_A_y_A=(1./M)*np.matmul(np.transpose(y_A), y_A)\n",
    "f_0_sq =( (1./M)*sum(y_A)  )*( (1./M)*sum(y_B)  )\n",
    "var_E_Y_q_i= y_A_y_C - f_0_sq\n",
    "var_Y      = y_A_y_A - f_0_sq\n",
    "S_i        = var_E_Y_q_i/var_Y\n",
    "print(y_A_y_C)\n",
    "print(y_A_y_A)\n",
    "print(f_0_sq)\n",
    "print(var_E_Y_q_i)\n",
    "print(var_Y)\n",
    "print(S_i)"
   ]
  },
  {
   "cell_type": "code",
   "execution_count": null,
   "metadata": {},
   "outputs": [],
   "source": []
  }
 ],
 "metadata": {
  "kernelspec": {
   "display_name": "Python 3",
   "language": "python",
   "name": "python3"
  },
  "language_info": {
   "codemirror_mode": {
    "name": "ipython",
    "version": 3
   },
   "file_extension": ".py",
   "mimetype": "text/x-python",
   "name": "python",
   "nbconvert_exporter": "python",
   "pygments_lexer": "ipython3",
   "version": "3.7.6"
  }
 },
 "nbformat": 4,
 "nbformat_minor": 2
}
